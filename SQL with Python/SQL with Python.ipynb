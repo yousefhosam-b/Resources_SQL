{
 "cells": [
  {
   "cell_type": "markdown",
   "id": "cee107bf",
   "metadata": {},
   "source": [
    "# SQL with Python"
   ]
  },
  {
   "cell_type": "markdown",
   "id": "548de87a",
   "metadata": {},
   "source": [
    "#### OOPs concepts are extensively used to increase reusablity of code\n",
    "#### Every Step is logged into a file using custom logging class"
   ]
  },
  {
   "cell_type": "markdown",
   "id": "864bf704",
   "metadata": {},
   "source": [
    "## Note: Credits of this work goes to Arjun Panwar, you may check his pages here:\n",
    "## LinkedIn: https://www.linkedin.com/in/arjun-panwar/\n",
    "## GitHub: https://github.com/arjun-panwar"
   ]
  },
  {
   "cell_type": "markdown",
   "id": "06cb42be",
   "metadata": {},
   "source": [
    "## Data Description"
   ]
  },
  {
   "cell_type": "markdown",
   "id": "b7208c73",
   "metadata": {},
   "source": [
    "Data Set used: Carbon Nanotubes\n",
    "\n",
    "Data Set URL: https://archive.ics.uci.edu/ml/datasets/Carbon+Nanotubes\n",
    "\n",
    "Number of Instances: 10721\n",
    "\n",
    "#### I will provide the dataset in the repository"
   ]
  },
  {
   "cell_type": "markdown",
   "id": "adae390f",
   "metadata": {},
   "source": [
    "## Logging Class"
   ]
  },
  {
   "cell_type": "code",
   "execution_count": 1,
   "id": "e637a296",
   "metadata": {},
   "outputs": [],
   "source": [
    "from datetime import datetime #importing DateTime package\n",
    "class App_Logger:\n",
    "    '''\n",
    "    It is used save logs into a file\n",
    "    Parameters\n",
    "    ----------\n",
    "    file: log file name Default is logfile.log\n",
    "    '''\n",
    "    \n",
    "    def __init__(self,file=\"logfile.log\"):\n",
    "        self.f_name = file\n",
    "    \n",
    "    def log(self,log_type,log_msg):\n",
    "        '''\n",
    "        Function log to save logs and log type in file\n",
    "        Parameters\n",
    "        ----------\n",
    "        log_type: Type of log-info,error,warning etc\n",
    "        log_msg: Log to be saved(message)\n",
    "        '''\n",
    "        now = datetime.now() #current time\n",
    "        current_time = now.strftime(\"%d-%m-%Y %H:%M:%S\") #changing time formation\n",
    "        f= open(self.f_name, \"a+\") #opening file in append + mode\n",
    "        f.write(current_time+\",\"+log_type+\",\"+log_msg+\"\\n\") #writing log type\n",
    "        f.close() #closing log file"
   ]
  },
  {
   "cell_type": "markdown",
   "id": "39012758",
   "metadata": {},
   "source": [
    "## SQL Class"
   ]
  },
  {
   "cell_type": "code",
   "execution_count": 18,
   "id": "97501a58",
   "metadata": {},
   "outputs": [
    {
     "name": "stdout",
     "output_type": "stream",
     "text": [
      "Collecting mysql-connector-python-rf\n",
      "  Downloading mysql-connector-python-rf-2.2.2.tar.gz (11.9 MB)\n",
      "Building wheels for collected packages: mysql-connector-python-rf\n",
      "  Building wheel for mysql-connector-python-rf (setup.py): started\n",
      "  Building wheel for mysql-connector-python-rf (setup.py): finished with status 'done'\n",
      "  Created wheel for mysql-connector-python-rf: filename=mysql_connector_python_rf-2.2.2-cp39-cp39-win_amd64.whl size=249453 sha256=820afeab5b2dd0b126c8d8ba3102f3f25172f576258da898e1b54cd1b92a4cf7\n",
      "  Stored in directory: c:\\users\\y\\appdata\\local\\pip\\cache\\wheels\\64\\06\\5b\\ef9543936a3f5de15b02775b6ae548a09f3ed2319d20342771\n",
      "Successfully built mysql-connector-python-rf\n",
      "Installing collected packages: mysql-connector-python-rf\n",
      "Successfully installed mysql-connector-python-rf-2.2.2\n"
     ]
    }
   ],
   "source": [
    "!pip install mysql-connector-python-rf"
   ]
  },
  {
   "cell_type": "code",
   "execution_count": 2,
   "id": "d43df9a9",
   "metadata": {},
   "outputs": [],
   "source": [
    "import mysql.connector as connection #importing MYSQL connector\n",
    "import pandas as pd #importing pandas\n",
    "class sql:\n",
    "    '''\n",
    "    SQL class through with we can perform most of the SQL tasks using python\n",
    "    Parameters\n",
    "    ----------\n",
    "    host: host URL of MySQL server\n",
    "    user: user name\n",
    "    passwd: password\n",
    "    db: database name- default empty string (\"\")\n",
    "    '''\n",
    "    \n",
    "    def __init__(self,host,user,passwd,db=\"\"):\n",
    "        '''\n",
    "        init function of sql class\n",
    "        '''\n",
    "        self.host=host\n",
    "        self.user=user\n",
    "        self.passwd=passwd\n",
    "        self.db=db\n",
    "        self.logger=App_Logger(\"logfile.txt\") #creating App_Logger object\n",
    "        self.logger.log(\"info\", \"SQL object created\") #logging\n",
    "        \n",
    "    def conn(self):\n",
    "        '''\n",
    "        Function conn is used to make connection to SQL server\n",
    "        Parameters\n",
    "        ----------\n",
    "        '''\n",
    "        try:\n",
    "            if self.db==\"\":\n",
    "                #connection without db\n",
    "                return connection.connect(host=self.host,user=self.user,passwd=self.passwd)\n",
    "            else:\n",
    "                # connection with db\n",
    "                return connection.connect(host=self.host,user=self.user, data=self.db)\n",
    "        except Exception as e:\n",
    "            self.logger.log(\"error\", f\"connection error : {str(e)}\") #logging\n",
    "            print(str(e))\n",
    "                                          \n",
    "    def db_list(self):\n",
    "        '''\n",
    "        Function db_list is used to show databases list\n",
    "        Parameters\n",
    "        ----------\n",
    "        '''\n",
    "        try:\n",
    "            conn=self.conn() #making connection\n",
    "            cursor = conn.cursor() #create a cursor to execute queries\n",
    "            q=\"SHOW DATABASES\" #qyery\n",
    "            cursor.execute(q) #executing Query\n",
    "            print(cursor.fetchall()) #printing result\n",
    "            conn.close() #connection closed\n",
    "            self.logger.log(\"info\", \"DB list displayed\") #logged\n",
    "                                          \n",
    "        except Exception as e:\n",
    "            conn.close()#connection closed\n",
    "            print(str(e))\n",
    "            self.logger.log(\"error\", f\"db list error : {str(e)}\") #logging\n",
    "                                          \n",
    "    def create_db(self,db_name):\n",
    "        '''\n",
    "        Function create_ db is used to create a new database\n",
    "        Parameters\n",
    "        ----------\n",
    "        db_name: database name\n",
    "        '''\n",
    "        try:\n",
    "            conn=self.conn() #making connection\n",
    "            cursor = conn.cursor() #create a cursor to execute queries\n",
    "            cursor.execute(f\"create database {db_name}\") #executing Query\n",
    "            self.db=db_name #Initializing database name to class variable so\n",
    "            conn.close()#connection closed\n",
    "            self.logger.log(\"info\", f\"{db_name} DB created\") #logging\n",
    "                                          \n",
    "        except Exception as e:\n",
    "            conn.close()#connection closed\n",
    "            print(str(e))\n",
    "            self.logger.log(\"error\", f\"db not created error : {str(e)}\") #log\n",
    "                                          \n",
    "    def drop_db(self,db_name):\n",
    "        '''\n",
    "        Function drop_ db is used to drop a database\n",
    "        Parameters\n",
    "        ----------\n",
    "        db_name: database name\n",
    "        '''\n",
    "        try:\n",
    "            conn=self.conn() #making connection\n",
    "            cursor = conn.cursor() #create a cursor to execute queries\n",
    "            cursor.execute(f\"drop database {db_name}\") #executing Query\n",
    "            conn.close() #connection closed\n",
    "            self.logger.log(\"info\", f\"{db_name} DB droped\") #logging\n",
    "                                          \n",
    "        except Exception as e:\n",
    "            conn.close()#connection closed\n",
    "            print(str(e))\n",
    "            self.logger.log(\"error\", f\"db not Droped error : {str(e)}\") #logg\n",
    "                                          \n",
    "    def create_table(self,table_name,columns):\n",
    "        '''\n",
    "        Function create_ table is used to create a new table\n",
    "        Parameters\n",
    "        ----------\n",
    "        table_name: table name\n",
    "        columns: columns names with data type and other discription in SQL fo\n",
    "        '''\n",
    "        try:\n",
    "            conn=self.conn() #making connection\n",
    "            cursor = conn.cursor() #create a cursor to execute queries\n",
    "            cursor.execute(f\"CREATE TABLE {table_name} ({columns})\") #executi\n",
    "            conn.close() #connection closed\n",
    "            self.logger.log(\"info\", f\"{table_name} table created with columns\")\n",
    "                            \n",
    "        except Exception as e:\n",
    "            conn.close() #connection closed\n",
    "            print(str(e))\n",
    "            self.logger.log(\"error\", f\"table not created error : {str(e)}\") #\n",
    "                \n",
    "    def insert(self,table_name,data):\n",
    "        '''\n",
    "        Function insert is used to insert value in table\n",
    "        Parameters\n",
    "        ----------\n",
    "        table_name: table name\n",
    "        data: values to be inserted\n",
    "        '''\n",
    "        try:\n",
    "            conn=self.conn() #making connection\n",
    "            cursor = conn.cursor() #create a cursor to execute queries\n",
    "            cursor.execute(f\"INSERT INTO {table_name} VALUES ({data})\") #exec\n",
    "            conn.commit() #commiting the query\n",
    "            conn.close() #connection closed\n",
    "                            \n",
    "        except Exception as e:\n",
    "            conn.close() #connection closed\n",
    "            self.logger.log(\"error\", f\"insert error : {str(e)}\") #logging\n",
    "                            \n",
    "    def dump_file(self,f_name,t_name,columns,csv=True):\n",
    "        '''\n",
    "        Function dump_file is used to dump a csv into a table\n",
    "        Parameters\n",
    "        ----------\n",
    "        f_name: file name\n",
    "        t_name: table name\n",
    "        columns: columns names with data type and other discription in SQL f\n",
    "        csv: True if csv file is comma separated otherwise False if csv file\n",
    "        '''\n",
    "        try:\n",
    "            f=open(f_name,\"r\") #opening file in read mode\n",
    "            f.readline() #reading first line to skip columns line in file\n",
    "            self.create_table(t_name,columns) #creating table\n",
    "            for line in f.readlines(): #reading file line by line\n",
    "                if csv:\n",
    "                    data=\"\\'\"+line[:-1].replace(\",\",\"\\',\\'\")+\"\\'\" # data for\n",
    "                    print(data)\n",
    "                else:\n",
    "                    data=\"\\'\"+line[:-1].replace(\";\",\"\\',\\'\")+\"\\'\" # data form\n",
    "                self.insert(t_name,data) #inserting data\n",
    "            self.logger.log(\"info\", f\"{f_name} file data dumped to {t_name} t\")\n",
    "                            \n",
    "        except Exception as e:\n",
    "            print(str(e))\n",
    "            self.logger.log(\"error\", f\"file dump error : {str(e)}\") #logging\n",
    "                            \n",
    "    def select_db(self,db_name):\n",
    "        '''\n",
    "        Function select_db is used to select a database\n",
    "        Parameters\n",
    "        ----------\n",
    "        db_name: database name\n",
    "        '''\n",
    "        self.db=db_name #Initializing database name to class variable so that\n",
    "        self.logger.log(\"info\", f\"{db_name} DB selected\") #logging\n",
    "                            \n",
    "    def columns(self,t_name):\n",
    "        '''\n",
    "        Function columns is used to print columns names\n",
    "        Parameters\n",
    "        ----------\n",
    "        t_name: table name\n",
    "        '''\n",
    "        try:\n",
    "            conn=self.conn() #making connection\n",
    "            cursor = conn.cursor() #create a cursor to execute queries\n",
    "            cursor.execute(f\"SELECT * FROM INFORMATION_SCHEMA.COLUMNS WHERE T\")\n",
    "            for result in cursor.fetchall(): #printing result\n",
    "                print(result[3],end=\",\")\n",
    "            conn.close() #connection closed\n",
    "            self.logger.log(\"info\", f\"columns names displayed\") #logging\n",
    "                           \n",
    "        except Exception as e:\n",
    "            conn.close() #connection closed\n",
    "            self.logger.log(\"error\", f\"columns name not displayed : {str(e)}\")\n",
    "\n",
    "    def query(self,query):\n",
    "        '''\n",
    "        Function query is used to run a SQL query\n",
    "        Parameters\n",
    "        ----------\n",
    "        query: SQL query\n",
    "        '''\n",
    "        try:\n",
    "            conn=self.conn() #making connection\n",
    "            cursor = conn.cursor() #create a cursor to execute queries\n",
    "            cursor.execute(query) #executing Query\n",
    "            for result in cursor.fetchall(): #printing result line by line\n",
    "                print(result)\n",
    "            conn.close() #connection closed\n",
    "            self.logger.log(\"info\", f\"Query is performed : {query} \") #loggin\n",
    "                            \n",
    "        except Exception as e:\n",
    "            conn.close() #connection closed\n",
    "            self.logger.log(\"error\", f\"Query not performed : {query} : {str(e)}\")\n",
    "\n",
    "    def pd_query(self,query,h=5,t=5):\n",
    "        '''\n",
    "        Function pd_query is used to run a SQL query using pandas\n",
    "        I used it here to get better output format of table\n",
    "        Parameters\n",
    "        ----------\n",
    "        query: SQL query\n",
    "        h: no. of results from head - default=5\n",
    "        t: no. of results from tail - default=5\n",
    "        '''\n",
    "        try:\n",
    "            df=pd.read_sql_query(query,self.conn()) #executing Query using pa\n",
    "            print(\"Head\") #printing head of dataframe\n",
    "            print(df.head(h))\n",
    "            if t>0: #printing Tail of dataframe if tail count is more t\n",
    "                print(\"Tail\")\n",
    "                print(df.tail(t))\n",
    "            self.logger.log(\"info\", f\"Query is performed : {query} \") #loggin\n",
    "\n",
    "        except Exception as e:\n",
    "            print(str(e))\n",
    "            self.logger.log(\"error\", f\"Query not performed : {query} : {str(e)}\")"
   ]
  },
  {
   "cell_type": "markdown",
   "id": "50e1bb9b",
   "metadata": {},
   "source": [
    "## Creating Class Object by passing HOST,USER,PASSWORD"
   ]
  },
  {
   "cell_type": "code",
   "execution_count": 3,
   "id": "7ec9771a",
   "metadata": {},
   "outputs": [],
   "source": [
    "ob=sql(\"localhost\",\"root\",\"2001\")"
   ]
  },
  {
   "cell_type": "markdown",
   "id": "a0bcdb0a",
   "metadata": {},
   "source": [
    "## Selecting DB UCI"
   ]
  },
  {
   "cell_type": "code",
   "execution_count": 9,
   "id": "ded5ed00",
   "metadata": {},
   "outputs": [],
   "source": [
    "ob.select_db(\"UCI\")"
   ]
  },
  {
   "cell_type": "markdown",
   "id": "582ddfae",
   "metadata": {},
   "source": [
    "## Dumping CSV File"
   ]
  },
  {
   "cell_type": "code",
   "execution_count": null,
   "id": "7b42c4b1",
   "metadata": {},
   "outputs": [],
   "source": [
    "columns=\"CI_n INT(2),CI_m INT(2),IAC_u VARCHAR(10),IAC_v VARCHAR(10),IAC_w VARCHAR(10), CAC_u VARCHAR(10), CAC_v VARCHAR(10), CAC_w VARCHAR(10)\"\n",
    "ob.dump_file(\"carbon_nanotubes.csv\",\"test5\",columns)"
   ]
  },
  {
   "cell_type": "code",
   "execution_count": null,
   "id": "d60eb229",
   "metadata": {},
   "outputs": [],
   "source": [
    "# columns names\n",
    "ob.columns(\"test5\")"
   ]
  },
  {
   "cell_type": "markdown",
   "id": "ef6ca290",
   "metadata": {},
   "source": [
    "## The SQL SELECT QUERY"
   ]
  },
  {
   "cell_type": "code",
   "execution_count": null,
   "id": "de1209ee",
   "metadata": {},
   "outputs": [],
   "source": [
    "#Select all columns\n",
    "ob.pd_query(\"Select * from test5\")"
   ]
  },
  {
   "cell_type": "code",
   "execution_count": null,
   "id": "deccf5d2",
   "metadata": {},
   "outputs": [],
   "source": [
    "#Select IAC_u column\n",
    "ob.pd_query(\"Select IAC_u from test5\")"
   ]
  },
  {
   "cell_type": "code",
   "execution_count": null,
   "id": "3419b93d",
   "metadata": {},
   "outputs": [],
   "source": [
    "#The SQL SELECT DISTINCT\n",
    "ob.pd_query(\"Select Distinct CI_m from test5\")"
   ]
  },
  {
   "cell_type": "code",
   "execution_count": null,
   "id": "59a331d1",
   "metadata": {},
   "outputs": [],
   "source": [
    "#The SQL WHERE CLAUSE\n",
    "ob.pd_query(\"Select CI_n,IAC_u from test5 where CI_n=2\")"
   ]
  },
  {
   "cell_type": "code",
   "execution_count": null,
   "id": "90976dc4",
   "metadata": {},
   "outputs": [],
   "source": [
    "#A WHERE clause with AND\n",
    "ob.pd_query(\"Select CI_n,CI_m,IAC_u from test5 where CI_n=2 and CI_m=1\")"
   ]
  },
  {
   "cell_type": "code",
   "execution_count": null,
   "id": "447f7af1",
   "metadata": {},
   "outputs": [],
   "source": [
    "#A WHERE clause with OR:\n",
    "ob.pd_query(\"Select CI_n,IAC_u from test5 where CI_n=2 or CI_n=3\")"
   ]
  },
  {
   "cell_type": "code",
   "execution_count": null,
   "id": "68c94826",
   "metadata": {},
   "outputs": [],
   "source": [
    "#A WHERE clause with NOT\n",
    "ob.pd_query(\"Select CI_n,CI_m,IAC_u from test5 where NOT CI_n=4 and CI_m=3\")"
   ]
  },
  {
   "cell_type": "code",
   "execution_count": null,
   "id": "a8b82856",
   "metadata": {},
   "outputs": [],
   "source": [
    "#Order By in Descending order\n",
    "ob.pd_query(\"Select CI_n,CI_m,IAC_u from test5 ORDER BY IAC_u DESC\")"
   ]
  },
  {
   "cell_type": "code",
   "execution_count": null,
   "id": "793a62d2",
   "metadata": {},
   "outputs": [],
   "source": [
    "#Order By in Ascending order\n",
    "ob.pd_query(\"Select CI_n,CI_m,IAC_u from test5 ORDER BY IAC_u ASC\")"
   ]
  },
  {
   "cell_type": "markdown",
   "id": "f9eab942",
   "metadata": {},
   "source": [
    "## The SQL MIN() AND MAX() FUNCTION"
   ]
  },
  {
   "cell_type": "code",
   "execution_count": null,
   "id": "bdc240b9",
   "metadata": {},
   "outputs": [],
   "source": [
    "ob.query(\"Select MIN(IAC_u) from test5\")"
   ]
  },
  {
   "cell_type": "code",
   "execution_count": null,
   "id": "7fc4f6a4",
   "metadata": {},
   "outputs": [],
   "source": [
    "ob.query(\"Select MAX(IAC_u) from test5\")"
   ]
  },
  {
   "cell_type": "markdown",
   "id": "817e249c",
   "metadata": {},
   "source": [
    "## The SQL COUNT(), AVG() AND SUM() FUNCTION"
   ]
  },
  {
   "cell_type": "code",
   "execution_count": null,
   "id": "a2603f84",
   "metadata": {},
   "outputs": [],
   "source": [
    "ob.query(\"Select count(IAC_u) from test5\")"
   ]
  },
  {
   "cell_type": "code",
   "execution_count": null,
   "id": "73f01423",
   "metadata": {},
   "outputs": [],
   "source": [
    "ob.query(\"Select AVG(CI_m) from test5\")"
   ]
  },
  {
   "cell_type": "code",
   "execution_count": null,
   "id": "6d0a0611",
   "metadata": {},
   "outputs": [],
   "source": [
    "ob.query(\"Select sum(CI_m) from test5\")"
   ]
  },
  {
   "cell_type": "markdown",
   "id": "44c170db",
   "metadata": {},
   "source": [
    "## The SQL LIKE-OPERATOR"
   ]
  },
  {
   "cell_type": "code",
   "execution_count": null,
   "id": "9dfd2fff",
   "metadata": {},
   "outputs": [],
   "source": [
    "# IAC_u starting with 0,05\n",
    "ob.pd_query(\"Select * from test5 WHERE IAC_u LIKE '0,05%'\")"
   ]
  },
  {
   "cell_type": "code",
   "execution_count": null,
   "id": "54938a8d",
   "metadata": {},
   "outputs": [],
   "source": [
    "# IAC_u ending with 1105\n",
    "ob.pd_query(\"Select * from test5 WHERE IAC_u LIKE '%1105'\")"
   ]
  },
  {
   "cell_type": "code",
   "execution_count": null,
   "id": "16709429",
   "metadata": {},
   "outputs": [],
   "source": [
    "# IAC_u that have \"345\" in any position.\n",
    "ob.pd_query(\"Select * from test5 WHERE IAC_u LIKE '%345%'\")"
   ]
  },
  {
   "cell_type": "code",
   "execution_count": null,
   "id": "185e51f5",
   "metadata": {},
   "outputs": [],
   "source": [
    "# IAC_u that starts with \"0,44\" and ends with \"5\":\n",
    "ob.pd_query(\"Select * from test5 WHERE IAC_u LIKE '0,44%5'\")"
   ]
  },
  {
   "cell_type": "markdown",
   "id": "29dec3ad",
   "metadata": {},
   "source": [
    "## The SQL IN AND NOT IN OPERATORS"
   ]
  },
  {
   "cell_type": "code",
   "execution_count": null,
   "id": "0221d167",
   "metadata": {},
   "outputs": [],
   "source": [
    "ob.pd_query(\"Select * from test5 WHERE CI_n IN (5,1)\")"
   ]
  },
  {
   "cell_type": "code",
   "execution_count": null,
   "id": "3faaadf3",
   "metadata": {},
   "outputs": [],
   "source": [
    "ob.pd_query(\"Select * from test5 WHERE CI_n between 4 and 5\")"
   ]
  },
  {
   "cell_type": "markdown",
   "id": "96e67561",
   "metadata": {},
   "source": [
    "## The SQL ALIAS"
   ]
  },
  {
   "cell_type": "code",
   "execution_count": null,
   "id": "51a62a40",
   "metadata": {},
   "outputs": [],
   "source": [
    "ob.pd_query(\"Select CI_n as CI,IAC_u as IAC from test5\")"
   ]
  },
  {
   "cell_type": "code",
   "execution_count": null,
   "id": "1bdfcb82",
   "metadata": {},
   "outputs": [],
   "source": [
    "ob.pd_query(\"Select IAC_u from test5 Group By IAC_u \")"
   ]
  },
  {
   "cell_type": "code",
   "execution_count": null,
   "id": "6c0a31dd",
   "metadata": {},
   "outputs": [],
   "source": [
    "ob.pd_query(\"Select count(IAC_v) from test5 Group By IAC_v \")"
   ]
  },
  {
   "cell_type": "code",
   "execution_count": null,
   "id": "a7ec30b9",
   "metadata": {},
   "outputs": [],
   "source": [
    "ob.pd_query(\"Select IAC_v from test5 Group By IAC_v having count(IAC_v)>3 \")"
   ]
  },
  {
   "cell_type": "markdown",
   "id": "3efdd919",
   "metadata": {},
   "source": [
    "## The SQL CREATE DATABASE"
   ]
  },
  {
   "cell_type": "code",
   "execution_count": null,
   "id": "22024b78",
   "metadata": {},
   "outputs": [],
   "source": [
    "ob.create_db(\"Test_DB\")"
   ]
  },
  {
   "cell_type": "markdown",
   "id": "583f0d05",
   "metadata": {},
   "source": [
    "## DROP DATABASE"
   ]
  },
  {
   "cell_type": "code",
   "execution_count": null,
   "id": "07304989",
   "metadata": {},
   "outputs": [],
   "source": [
    "ob.drop_db(\"Test_DB\")"
   ]
  },
  {
   "cell_type": "markdown",
   "id": "fccb5287",
   "metadata": {},
   "source": [
    "## check NOT NuLL"
   ]
  },
  {
   "cell_type": "code",
   "execution_count": null,
   "id": "9d3e2680",
   "metadata": {},
   "outputs": [],
   "source": [
    "ob.select_db(\"UCI\")\n",
    "ob.pd_query(\"SELECT * FROM test5 WHERE IAC_u IS NOT NULL\")"
   ]
  },
  {
   "cell_type": "markdown",
   "id": "a01bf9d7",
   "metadata": {},
   "source": [
    "## ALTER TABLE -ADD and DROP COLUMN"
   ]
  },
  {
   "cell_type": "code",
   "execution_count": null,
   "id": "ccca5d8d",
   "metadata": {},
   "outputs": [],
   "source": [
    "ob.pd_query(\"ALTER TABLE test5 ADD email varchar(25)\")\n",
    "ob.pd_query(\"Select * from test5\",5,0)"
   ]
  },
  {
   "cell_type": "code",
   "execution_count": null,
   "id": "430ee7f1",
   "metadata": {},
   "outputs": [],
   "source": [
    "ob.pd_query(\"ALTER TABLE test5 DROP email\")\n",
    "ob.pd_query(\"Select * from test5\",5,0)"
   ]
  },
  {
   "cell_type": "markdown",
   "id": "6bbf9d35",
   "metadata": {},
   "source": [
    "## ALTER modify COLUMN"
   ]
  },
  {
   "cell_type": "code",
   "execution_count": null,
   "id": "b0f5d93c",
   "metadata": {},
   "outputs": [],
   "source": [
    "ob.pd_query(\"ALTER TABLE test5 MODIFY CI_n int NOT NULL\")\n",
    "ob.pd_query(\"desc test5\",5,0)"
   ]
  },
  {
   "cell_type": "markdown",
   "id": "1b40fcde",
   "metadata": {},
   "source": [
    "## SQL CHECK on CREATE TABLE"
   ]
  },
  {
   "cell_type": "code",
   "execution_count": null,
   "id": "a202c223",
   "metadata": {},
   "outputs": [],
   "source": [
    "ob.pd_query(\"CREATE TABLE Persons (ID int NOT NULL, LastName varchar(255) NOT\n",
    "ob.pd_query(\"desc Persons\",5,0)"
   ]
  },
  {
   "cell_type": "code",
   "execution_count": null,
   "id": "17b04e11",
   "metadata": {},
   "outputs": [],
   "source": [
    "#drop check\n",
    "ob.pd_query(\"ALTER TABLE Persons DROP CHECK Age\")\n",
    "ob.pd_query(\"desc Persons\",5,0)"
   ]
  },
  {
   "cell_type": "markdown",
   "id": "5abe656d",
   "metadata": {},
   "source": [
    "## SQL DEFAULT on CREATE TABLE"
   ]
  },
  {
   "cell_type": "code",
   "execution_count": null,
   "id": "382e44f6",
   "metadata": {},
   "outputs": [],
   "source": [
    "ob.pd_query(\"CREATE TABLE Person1 (ID int NOT NULL, LastName varchar(255) NOT\n",
    "ob.pd_query(\"desc Person1\",5,0)"
   ]
  },
  {
   "cell_type": "markdown",
   "id": "ee57010a",
   "metadata": {},
   "source": [
    "## DROP A DEFAULT CONSTRAINT"
   ]
  },
  {
   "cell_type": "code",
   "execution_count": null,
   "id": "2b3fe545",
   "metadata": {},
   "outputs": [],
   "source": [
    "ob.pd_query(\"ALTER TABLE Person1 ALTER City DROP DEFAULT\")\n",
    "ob.pd_query(\"desc Person1\",5,0)"
   ]
  },
  {
   "cell_type": "markdown",
   "id": "df32b36c",
   "metadata": {},
   "source": [
    "## CREATE INDEX"
   ]
  },
  {
   "cell_type": "code",
   "execution_count": null,
   "id": "4a8f5b18",
   "metadata": {},
   "outputs": [],
   "source": [
    "ob.pd_query(\"CREATE INDEX idex_lastname on Person1 (LastName)\")\n",
    "ob.pd_query(\"desc Person1\",5,0)"
   ]
  },
  {
   "cell_type": "markdown",
   "id": "e70a9842",
   "metadata": {},
   "source": [
    "## CREATE UNIQUE INDEX"
   ]
  },
  {
   "cell_type": "code",
   "execution_count": null,
   "id": "fd17b014",
   "metadata": {},
   "outputs": [],
   "source": [
    "ob.pd_query(\"Create UNIQUE INDEX id on Person1 (ID)\")\n",
    "ob.pd_query(\"desc Person1\",5,0)"
   ]
  },
  {
   "cell_type": "code",
   "execution_count": null,
   "id": "63528ae9",
   "metadata": {},
   "outputs": [],
   "source": [
    "#drop Index\n",
    "ob.pd_query(\"ALTER TABLE Person1 DROP INDEX idex_lastname\")\n",
    "ob.pd_query(\"desc Person1\",5,0)"
   ]
  },
  {
   "cell_type": "markdown",
   "id": "ecce6f91",
   "metadata": {},
   "source": [
    "## CREATE VIEW Syntax"
   ]
  },
  {
   "cell_type": "code",
   "execution_count": null,
   "id": "ba44f3d4",
   "metadata": {},
   "outputs": [],
   "source": [
    "ob.pd_query(\"CREATE VIEW test_view AS SELECT CI_n,IAC_u,IAC_v FROM test5\")\n",
    "ob.pd_query(\"Select * from test_view\")"
   ]
  },
  {
   "cell_type": "markdown",
   "id": "9208aac8",
   "metadata": {},
   "source": [
    "## DROPPING VIEWS"
   ]
  },
  {
   "cell_type": "code",
   "execution_count": null,
   "id": "4cdc0da6",
   "metadata": {},
   "outputs": [],
   "source": [
    "ob.pd_query(\"DROP VIEW test_view\")\n",
    "ob.pd_query(\"Select * from test_view\")"
   ]
  },
  {
   "cell_type": "markdown",
   "id": "4adf49c6",
   "metadata": {},
   "source": [
    "## IF Statement in MySQL"
   ]
  },
  {
   "cell_type": "code",
   "execution_count": null,
   "id": "b843e446",
   "metadata": {},
   "outputs": [],
   "source": [
    "ob.pd_query(\"Select CI_n, IF(CI_n>4,'MORE','LESS') from test5\")"
   ]
  }
 ],
 "metadata": {
  "kernelspec": {
   "display_name": "Python 3 (ipykernel)",
   "language": "python",
   "name": "python3"
  },
  "language_info": {
   "codemirror_mode": {
    "name": "ipython",
    "version": 3
   },
   "file_extension": ".py",
   "mimetype": "text/x-python",
   "name": "python",
   "nbconvert_exporter": "python",
   "pygments_lexer": "ipython3",
   "version": "3.9.6"
  }
 },
 "nbformat": 4,
 "nbformat_minor": 5
}
